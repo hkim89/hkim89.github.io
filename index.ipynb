{
 "cells": [
  {
   "cell_type": "markdown",
   "metadata": {},
   "source": [
    "<!-- ---\n",
    "layout: page\n",
    "title: My personal page\n",
    "tagline: Hyeonju Kim\n",
    "--- -->\n",
    "\n",
    "# Hyeonju Kim\n",
    "\n",
    "## About\n",
    "\n",
    "I am a postdoctoral research scientist in the [Center for Statistical Genetics](http://statgen.us/Main_Page) in the [Gertrude H. Sergievsky Center](https://www.neurology.columbia.edu/research/research-programs-and-partners/gertrude-h-sergievsky-center) at [Columbia University Irving Medical Center](https://www.cuimc.columbia.edu).  My research interest is in high-dimensional analysis for large-scale data using optimization\n",
    "techniques in quantitative genetics and genomics, stochastic processes, and its modelling. I am currently working closely with Dr. [Gao Wang](https://www.tigerwang.org) and am directed by Dr. [Suzanne Leal](http://statgen.us/Suzanne_M_Leal_PhD) to develop a fine mapping tool for binary traits in Human Genetics to extend the Sum of Single Effects model ([SuSiE](https://doi.org/10.1111/rssb.12388)) to generalized linear mixed model by an empirical Bayes method.\n",
    "\n",
    "I developed a Julia software package, [FlxQTL](https://github.com/senresearch/FlxQTL.jl), of QTL (Quantitative Trait Loci) analysis under the supervision of Dr. [\\'Saunak Sen](http://senresearch.org/) in the Division of [Biostatistics](https://www.uthsc.edu/preventive-medicine/biostatistics.php) \n",
    "in the department of Preventive Medicine at the University \n",
    "of Tennessee Health Science Center.  \n",
    "\n",
    "I was granted a PhD degree in [Statistics](https://statistics.arizona.edu/) at the University of Arizona under the guidance of \n",
    "Dr. [Rabi Bhattacharya](https://en.wikipedia.org/wiki/Rabi_Bhattacharya) and worked on ruin problems in Economics and Insurance. \n",
    "Under the guidance of Dr. [Stanly Steinberg](https://math.unm.edu/~stanly/), I had been awarded a master's degree in \n",
    "[Applied Mathematics](https://math.unm.edu/) at the University of New Mexico. My master's thesis was on understanding the pricing of \n",
    "financial derivatives and numerical methods for solving PDEs. \n",
    "\n",
    "\n",
    "* [CV](CV_Hyeonju_Kim.pdf)\n",
    "\n",
    "\n",
    "## Research Interests \n",
    "\n",
    "* [Multivariate Linear Mixed Models](fmulti-lmm.html)\n",
    "* [Ruin Problems](ruin.html)\n",
    "\n",
    "\n",
    "\n",
    "\n",
    "\n",
    "\n",
    "\n",
    "\n",
    "\n",
    "\n",
    "\n",
    "\n"
   ]
  }
 ],
 "metadata": {
  "kernelspec": {
   "display_name": "Julia 1.6.1",
   "language": "julia",
   "name": "julia-1.6"
  },
  "language_info": {
   "file_extension": ".jl",
   "mimetype": "application/julia",
   "name": "julia",
   "version": "1.6.2"
  }
 },
 "nbformat": 4,
 "nbformat_minor": 4
}
