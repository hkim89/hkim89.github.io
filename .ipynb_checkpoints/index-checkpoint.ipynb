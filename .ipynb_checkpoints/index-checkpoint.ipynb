{
 "cells": [
  {
   "cell_type": "raw",
   "metadata": {},
   "source": [
    "<!-- ---\n",
    "layout: page\n",
    "title: My personal page\n",
    "tagline: Hyeonju Kim\n",
    "--- -->\n",
    "\n",
    "# Hyeonju Kim\n",
    "\n",
    "## About\n",
    "\n",
    "I am a postdoctoral scholar in the Division of [Biostatistics](https://www.uthsc.edu/preventive-medicine/biostatistics.php) \n",
    "in the department of Preventive Medicine at the University \n",
    "of Tennessee Health Science Center. My research interest is in high-dimensional analysis for large-scale data using optimization\n",
    "techniques, stochastic processes, and its modelling. I am currently working with Dr. [\\'Saunak Sen](http://senresearch.org/) on \n",
    "developing an algorithm for multivariate linear mixed models in quantitative genetics and genomics.  \n",
    "\n",
    "I was granted a PhD degree in [Statistics](https://statistics.arizona.edu/) at the University of Arizona under the supervision of \n",
    "Dr. [Rabi Bhattacharya](https://en.wikipedia.org/wiki/Rabi_Bhattacharya) and worked on ruin problems in Economics and Insurance. \n",
    "Under the supervision of Dr. [Stanly Steinberg](https://math.unm.edu/~stanly/), I had been awarded a master's degree in \n",
    "[Applied Mathematics](https://math.unm.edu/) at the University of New Mexico. My master's thesis was on understanding the pricing of \n",
    "financial derivatives and numerical methods for solving PDEs. \n",
    "\n",
    "\n",
    "* [CV](CV_Hyeonju_Kim.pdf)\n",
    "\n",
    "\n",
    "## Research Interests \n",
    "\n",
    "* [Multivariate Linear Mixed Models](fmulti-lmm.html)\n",
    "* [Ruin Problems](ruin.html)\n",
    "\n",
    "\n",
    "\n",
    "\n",
    "\n",
    "\n",
    "\n",
    "\n",
    "\n",
    "\n",
    "\n",
    "\n"
   ]
  }
 ],
 "metadata": {
  "kernelspec": {
   "display_name": "Python 3",
   "language": "python",
   "name": "python3"
  },
  "language_info": {
   "codemirror_mode": {
    "name": "ipython",
    "version": 3
   },
   "file_extension": ".py",
   "mimetype": "text/x-python",
   "name": "python",
   "nbconvert_exporter": "python",
   "pygments_lexer": "ipython3",
   "version": "3.7.1"
  }
 },
 "nbformat": 4,
 "nbformat_minor": 4
}
